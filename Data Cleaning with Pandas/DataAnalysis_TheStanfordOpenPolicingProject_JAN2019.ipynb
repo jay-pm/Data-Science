{
  "nbformat": 4,
  "nbformat_minor": 0,
  "metadata": {
    "colab": {
      "name": "DataAnalysis_TheStanfordOpenPolicingProject_JAN2019.ipynb",
      "version": "0.3.2",
      "provenance": [],
      "collapsed_sections": []
    },
    "kernelspec": {
      "name": "python3",
      "display_name": "Python 3"
    },
    "accelerator": "GPU"
  },
  "cells": [
    {
      "cell_type": "markdown",
      "metadata": {
        "id": "d-OFQixkZHZk",
        "colab_type": "text"
      },
      "source": [
        "Download data from https://openpolicing.stanford.edu/data/\n",
        "\n",
        "**THE STANFORD OPEN POLICING PROJECT:**\n",
        "\n",
        "Below is from above mentioned website:\n",
        "\n",
        "On a typical day in the United States, police officers make more than 50,000 traffic stops. Our team is gathering, analyzing, and releasing records from millions of traffic stops by law enforcement agencies across the country. Our goal is to help researchers, journalists, and policymakers investigate and improve interactions between police and the public."
      ]
    },
    {
      "cell_type": "markdown",
      "metadata": {
        "id": "FuOmhxECqf_r",
        "colab_type": "text"
      },
      "source": [
        "We'll be analyzing a dataset of traffic stops in Rhode Island that was collected by the Stanford Open Policing Project."
      ]
    },
    {
      "cell_type": "code",
      "metadata": {
        "id": "FZRQ5pSdq60M",
        "colab_type": "code",
        "outputId": "f8d55cf3-955b-4bef-f086-50c7c930ab3f",
        "colab": {
          "base_uri": "https://localhost:8080/",
          "height": 120
        }
      },
      "source": [
        "# copy data from google drive\n",
        "from google.colab import drive\n",
        "drive.mount('/content/drive')"
      ],
      "execution_count": 1,
      "outputs": [
        {
          "output_type": "stream",
          "text": [
            "Go to this URL in a browser: https://accounts.google.com/o/oauth2/auth?client_id=947318989803-6bn6qk8qdgf4n4g3pfee6491hc0brc4i.apps.googleusercontent.com&redirect_uri=urn%3Aietf%3Awg%3Aoauth%3A2.0%3Aoob&scope=email%20https%3A%2F%2Fwww.googleapis.com%2Fauth%2Fdocs.test%20https%3A%2F%2Fwww.googleapis.com%2Fauth%2Fdrive%20https%3A%2F%2Fwww.googleapis.com%2Fauth%2Fdrive.photos.readonly%20https%3A%2F%2Fwww.googleapis.com%2Fauth%2Fpeopleapi.readonly&response_type=code\n",
            "\n",
            "Enter your authorization code:\n",
            "··········\n",
            "Mounted at /content/drive\n"
          ],
          "name": "stdout"
        }
      ]
    },
    {
      "cell_type": "code",
      "metadata": {
        "id": "dDCHM_c7rZ2p",
        "colab_type": "code",
        "outputId": "15c96d03-c753-477f-ade1-a35b19d7d494",
        "colab": {
          "base_uri": "https://localhost:8080/",
          "height": 133
        }
      },
      "source": [
        "!ls \"/content/drive/My Drive/Data\""
      ],
      "execution_count": 2,
      "outputs": [
        {
          "output_type": "stream",
          "text": [
            " AirPassengers.csv\n",
            " creditcard.csv\n",
            "'DataCleaning_THE STANFORD OPEN POLICING PROJECT_Jay2019.ipynb'\n",
            "'horse&human'\n",
            " police.csv\n",
            " train_LbELtWX.zip\n",
            " weather.csv\n"
          ],
          "name": "stdout"
        }
      ]
    },
    {
      "cell_type": "code",
      "metadata": {
        "id": "K-H_5YnOrkJL",
        "colab_type": "code",
        "colab": {}
      },
      "source": [
        "!cp \"/content/drive/My Drive/Data/police.csv\" \"police.csv\"\n",
        "!cp \"/content/drive/My Drive/Data/weather.csv\" \"weather.csv\""
      ],
      "execution_count": 0,
      "outputs": []
    },
    {
      "cell_type": "code",
      "metadata": {
        "id": "Z8RR46Qgr3hU",
        "colab_type": "code",
        "outputId": "83f6afc6-3c4f-4b01-ef50-4fc1656d8633",
        "colab": {
          "base_uri": "https://localhost:8080/",
          "height": 33
        }
      },
      "source": [
        "!ls"
      ],
      "execution_count": 4,
      "outputs": [
        {
          "output_type": "stream",
          "text": [
            "drive  police.csv  sample_data\tweather.csv\n"
          ],
          "name": "stdout"
        }
      ]
    },
    {
      "cell_type": "code",
      "metadata": {
        "id": "-ARVEtubr7pS",
        "colab_type": "code",
        "colab": {}
      },
      "source": [
        "# imports\n",
        "import pandas as pd # for file handling and data manipulation\n",
        "import numpy as np # for numerical algebra"
      ],
      "execution_count": 0,
      "outputs": []
    },
    {
      "cell_type": "code",
      "metadata": {
        "id": "dXM5uQFwYT7o",
        "colab_type": "code",
        "colab": {}
      },
      "source": [
        "# load the data\n",
        "data = pd.read_csv('police.csv')\n",
        "data_weather = pd.read_csv('weather.csv')\n"
      ],
      "execution_count": 0,
      "outputs": []
    },
    {
      "cell_type": "markdown",
      "metadata": {
        "id": "Ko4nxPsnsRu1",
        "colab_type": "text"
      },
      "source": [
        "**Examine the data**"
      ]
    },
    {
      "cell_type": "code",
      "metadata": {
        "id": "hJ79iXm3sViT",
        "colab_type": "code",
        "outputId": "7e4ad6f7-0613-418f-b39b-20f6b3223a0d",
        "colab": {
          "base_uri": "https://localhost:8080/",
          "height": 301
        }
      },
      "source": [
        "# check first five rows of data\n",
        "data.head()"
      ],
      "execution_count": 7,
      "outputs": [
        {
          "output_type": "execute_result",
          "data": {
            "text/html": [
              "<div>\n",
              "<style scoped>\n",
              "    .dataframe tbody tr th:only-of-type {\n",
              "        vertical-align: middle;\n",
              "    }\n",
              "\n",
              "    .dataframe tbody tr th {\n",
              "        vertical-align: top;\n",
              "    }\n",
              "\n",
              "    .dataframe thead th {\n",
              "        text-align: right;\n",
              "    }\n",
              "</style>\n",
              "<table border=\"1\" class=\"dataframe\">\n",
              "  <thead>\n",
              "    <tr style=\"text-align: right;\">\n",
              "      <th></th>\n",
              "      <th>state</th>\n",
              "      <th>stop_date</th>\n",
              "      <th>stop_time</th>\n",
              "      <th>county_name</th>\n",
              "      <th>driver_gender</th>\n",
              "      <th>driver_race</th>\n",
              "      <th>violation_raw</th>\n",
              "      <th>violation</th>\n",
              "      <th>search_conducted</th>\n",
              "      <th>search_type</th>\n",
              "      <th>stop_outcome</th>\n",
              "      <th>is_arrested</th>\n",
              "      <th>stop_duration</th>\n",
              "      <th>drugs_related_stop</th>\n",
              "      <th>district</th>\n",
              "    </tr>\n",
              "  </thead>\n",
              "  <tbody>\n",
              "    <tr>\n",
              "      <th>0</th>\n",
              "      <td>RI</td>\n",
              "      <td>2005-01-04</td>\n",
              "      <td>12:55</td>\n",
              "      <td>NaN</td>\n",
              "      <td>M</td>\n",
              "      <td>White</td>\n",
              "      <td>Equipment/Inspection Violation</td>\n",
              "      <td>Equipment</td>\n",
              "      <td>False</td>\n",
              "      <td>NaN</td>\n",
              "      <td>Citation</td>\n",
              "      <td>False</td>\n",
              "      <td>0-15 Min</td>\n",
              "      <td>False</td>\n",
              "      <td>Zone X4</td>\n",
              "    </tr>\n",
              "    <tr>\n",
              "      <th>1</th>\n",
              "      <td>RI</td>\n",
              "      <td>2005-01-23</td>\n",
              "      <td>23:15</td>\n",
              "      <td>NaN</td>\n",
              "      <td>M</td>\n",
              "      <td>White</td>\n",
              "      <td>Speeding</td>\n",
              "      <td>Speeding</td>\n",
              "      <td>False</td>\n",
              "      <td>NaN</td>\n",
              "      <td>Citation</td>\n",
              "      <td>False</td>\n",
              "      <td>0-15 Min</td>\n",
              "      <td>False</td>\n",
              "      <td>Zone K3</td>\n",
              "    </tr>\n",
              "    <tr>\n",
              "      <th>2</th>\n",
              "      <td>RI</td>\n",
              "      <td>2005-02-17</td>\n",
              "      <td>04:15</td>\n",
              "      <td>NaN</td>\n",
              "      <td>M</td>\n",
              "      <td>White</td>\n",
              "      <td>Speeding</td>\n",
              "      <td>Speeding</td>\n",
              "      <td>False</td>\n",
              "      <td>NaN</td>\n",
              "      <td>Citation</td>\n",
              "      <td>False</td>\n",
              "      <td>0-15 Min</td>\n",
              "      <td>False</td>\n",
              "      <td>Zone X4</td>\n",
              "    </tr>\n",
              "    <tr>\n",
              "      <th>3</th>\n",
              "      <td>RI</td>\n",
              "      <td>2005-02-20</td>\n",
              "      <td>17:15</td>\n",
              "      <td>NaN</td>\n",
              "      <td>M</td>\n",
              "      <td>White</td>\n",
              "      <td>Call for Service</td>\n",
              "      <td>Other</td>\n",
              "      <td>False</td>\n",
              "      <td>NaN</td>\n",
              "      <td>Arrest Driver</td>\n",
              "      <td>True</td>\n",
              "      <td>16-30 Min</td>\n",
              "      <td>False</td>\n",
              "      <td>Zone X1</td>\n",
              "    </tr>\n",
              "    <tr>\n",
              "      <th>4</th>\n",
              "      <td>RI</td>\n",
              "      <td>2005-02-24</td>\n",
              "      <td>01:20</td>\n",
              "      <td>NaN</td>\n",
              "      <td>F</td>\n",
              "      <td>White</td>\n",
              "      <td>Speeding</td>\n",
              "      <td>Speeding</td>\n",
              "      <td>False</td>\n",
              "      <td>NaN</td>\n",
              "      <td>Citation</td>\n",
              "      <td>False</td>\n",
              "      <td>0-15 Min</td>\n",
              "      <td>False</td>\n",
              "      <td>Zone X3</td>\n",
              "    </tr>\n",
              "  </tbody>\n",
              "</table>\n",
              "</div>"
            ],
            "text/plain": [
              "  state   stop_date stop_time  ...  stop_duration drugs_related_stop district\n",
              "0    RI  2005-01-04     12:55  ...       0-15 Min              False  Zone X4\n",
              "1    RI  2005-01-23     23:15  ...       0-15 Min              False  Zone K3\n",
              "2    RI  2005-02-17     04:15  ...       0-15 Min              False  Zone X4\n",
              "3    RI  2005-02-20     17:15  ...      16-30 Min              False  Zone X1\n",
              "4    RI  2005-02-24     01:20  ...       0-15 Min              False  Zone X3\n",
              "\n",
              "[5 rows x 15 columns]"
            ]
          },
          "metadata": {
            "tags": []
          },
          "execution_count": 7
        }
      ]
    },
    {
      "cell_type": "markdown",
      "metadata": {
        "id": "Yz8RqFC-yJ88",
        "colab_type": "text"
      },
      "source": [
        "- Each row represents one traffic stop\n",
        "- NaN indicates a missing value"
      ]
    },
    {
      "cell_type": "code",
      "metadata": {
        "id": "dU4Xf-5DscHY",
        "colab_type": "code",
        "outputId": "25daaaa8-3f18-4f04-bb77-4e8b3e1bdf1d",
        "colab": {
          "base_uri": "https://localhost:8080/",
          "height": 350
        }
      },
      "source": [
        "# check data statistics using info() method\n",
        "data.info()"
      ],
      "execution_count": 8,
      "outputs": [
        {
          "output_type": "stream",
          "text": [
            "<class 'pandas.core.frame.DataFrame'>\n",
            "RangeIndex: 91741 entries, 0 to 91740\n",
            "Data columns (total 15 columns):\n",
            "state                 91741 non-null object\n",
            "stop_date             91741 non-null object\n",
            "stop_time             91741 non-null object\n",
            "county_name           0 non-null float64\n",
            "driver_gender         86536 non-null object\n",
            "driver_race           86539 non-null object\n",
            "violation_raw         86539 non-null object\n",
            "violation             86539 non-null object\n",
            "search_conducted      91741 non-null bool\n",
            "search_type           3307 non-null object\n",
            "stop_outcome          86539 non-null object\n",
            "is_arrested           86539 non-null object\n",
            "stop_duration         86539 non-null object\n",
            "drugs_related_stop    91741 non-null bool\n",
            "district              91741 non-null object\n",
            "dtypes: bool(2), float64(1), object(12)\n",
            "memory usage: 9.3+ MB\n"
          ],
          "name": "stdout"
        }
      ]
    },
    {
      "cell_type": "code",
      "metadata": {
        "id": "NS6DTihqsi7-",
        "colab_type": "code",
        "outputId": "f85e3cc3-b826-4be6-ea8b-725c37d8e495",
        "colab": {
          "base_uri": "https://localhost:8080/",
          "height": 283
        }
      },
      "source": [
        "# check for missing values\n",
        "data.isnull().sum()"
      ],
      "execution_count": 9,
      "outputs": [
        {
          "output_type": "execute_result",
          "data": {
            "text/plain": [
              "state                     0\n",
              "stop_date                 0\n",
              "stop_time                 0\n",
              "county_name           91741\n",
              "driver_gender          5205\n",
              "driver_race            5202\n",
              "violation_raw          5202\n",
              "violation              5202\n",
              "search_conducted          0\n",
              "search_type           88434\n",
              "stop_outcome           5202\n",
              "is_arrested            5202\n",
              "stop_duration          5202\n",
              "drugs_related_stop        0\n",
              "district                  0\n",
              "dtype: int64"
            ]
          },
          "metadata": {
            "tags": []
          },
          "execution_count": 9
        }
      ]
    },
    {
      "cell_type": "code",
      "metadata": {
        "id": "6crBKuufvcR8",
        "colab_type": "code",
        "outputId": "d88a988c-4a25-4469-d8c9-eaa3f857fb58",
        "colab": {
          "base_uri": "https://localhost:8080/",
          "height": 33
        }
      },
      "source": [
        "# check shape of the dataset\n",
        "data.shape"
      ],
      "execution_count": 10,
      "outputs": [
        {
          "output_type": "execute_result",
          "data": {
            "text/plain": [
              "(91741, 15)"
            ]
          },
          "metadata": {
            "tags": []
          },
          "execution_count": 10
        }
      ]
    },
    {
      "cell_type": "markdown",
      "metadata": {
        "id": "MMGRiPG6wDHA",
        "colab_type": "text"
      },
      "source": [
        "Often, a DataFrame will contain columns that are not useful to your analysis. Such columns should be dropped from the DataFrame, to make it easier for us to focus on the remaining columns.\n",
        "\n",
        "For police dataset we'll drop the county_name column because it only contains missing values, and we'll drop the state column because all of the traffic stops took place in one state (Rhode Island). Thus, these columns can be dropped because they contain no useful information."
      ]
    },
    {
      "cell_type": "code",
      "metadata": {
        "id": "Dx-NbtgXwB_u",
        "colab_type": "code",
        "colab": {}
      },
      "source": [
        "# drop country_name and state column\n",
        "data.drop(['county_name', 'state'], axis='columns', inplace=True) # use inplace = True to avoid one additional assignment statement"
      ],
      "execution_count": 0,
      "outputs": []
    },
    {
      "cell_type": "code",
      "metadata": {
        "id": "Kadk2ypJxo4q",
        "colab_type": "code",
        "outputId": "adc9a6f0-8d82-4d4c-a28b-bb7ed9250e5d",
        "colab": {
          "base_uri": "https://localhost:8080/",
          "height": 33
        }
      },
      "source": [
        "# check shape of the dataset again\n",
        "data.shape"
      ],
      "execution_count": 12,
      "outputs": [
        {
          "output_type": "execute_result",
          "data": {
            "text/plain": [
              "(91741, 13)"
            ]
          },
          "metadata": {
            "tags": []
          },
          "execution_count": 12
        }
      ]
    },
    {
      "cell_type": "code",
      "metadata": {
        "id": "FfEyhAhqydK8",
        "colab_type": "code",
        "outputId": "a3f448ce-86b2-4ec0-bea2-b3ce8b7bd97b",
        "colab": {
          "base_uri": "https://localhost:8080/",
          "height": 250
        }
      },
      "source": [
        "# check data types\n",
        "data.dtypes"
      ],
      "execution_count": 13,
      "outputs": [
        {
          "output_type": "execute_result",
          "data": {
            "text/plain": [
              "stop_date             object\n",
              "stop_time             object\n",
              "driver_gender         object\n",
              "driver_race           object\n",
              "violation_raw         object\n",
              "violation             object\n",
              "search_conducted        bool\n",
              "search_type           object\n",
              "stop_outcome          object\n",
              "is_arrested           object\n",
              "stop_duration         object\n",
              "drugs_related_stop      bool\n",
              "district              object\n",
              "dtype: object"
            ]
          },
          "metadata": {
            "tags": []
          },
          "execution_count": 13
        }
      ]
    },
    {
      "cell_type": "markdown",
      "metadata": {
        "id": "jTe5SUPOyqQk",
        "colab_type": "text"
      },
      "source": [
        "- object: Python strings (or other Python objects)\n",
        "- bool: True and False values\n",
        "- Other types: int, float, datetime, category"
      ]
    },
    {
      "cell_type": "markdown",
      "metadata": {
        "id": "NO5EWFHCBie6",
        "colab_type": "text"
      },
      "source": [
        "**Why do data types matter?**\n",
        "- Affects which operations you can perform\n",
        "- Avoid storing data as strings (when possible)\n",
        "      int, float: enables mathematical operations\n",
        "      datetime: enables date-based attributes and methods\n",
        "      category: uses less memory and runs faster\n",
        "      bool: enables logical and mathematical operations"
      ]
    },
    {
      "cell_type": "markdown",
      "metadata": {
        "id": "Qg7-C5S1CA3e",
        "colab_type": "text"
      },
      "source": [
        "In abovecell is_arrested column currently has the object data type. We'll change the data type to bool, which is the most suitable type for a column containing True and False values.\n",
        "\n",
        "Fixing the data type will enable us to use mathematical operations on the is_arrested column that would not be possible otherwise."
      ]
    },
    {
      "cell_type": "code",
      "metadata": {
        "id": "xGlGPdbPBiMa",
        "colab_type": "code",
        "colab": {}
      },
      "source": [
        "data['is_arrested'] = data['is_arrested'].astype('bool')"
      ],
      "execution_count": 0,
      "outputs": []
    },
    {
      "cell_type": "markdown",
      "metadata": {
        "id": "0DT3xCr1DXlG",
        "colab_type": "text"
      },
      "source": [
        " dot notation i.e. data.is_arrested and brack notation i.e. data['is_arrested'] are same but bracket notation must be used on left side of a assignment statement as shown above."
      ]
    },
    {
      "cell_type": "markdown",
      "metadata": {
        "id": "nrbwNUzfEzMU",
        "colab_type": "text"
      },
      "source": [
        "Currently, the date and time of each traffic stop are stored in separate object columns: stop_date and stop_time.\n",
        "\n",
        "We'll combine these two columns into a single column, and then convert it to datetime format. This will enable us to use convenient date-based attributes."
      ]
    },
    {
      "cell_type": "code",
      "metadata": {
        "id": "69VgSQTGytcn",
        "colab_type": "code",
        "outputId": "55139556-d61a-488d-9cf3-2eab3da7abee",
        "colab": {
          "base_uri": "https://localhost:8080/",
          "height": 161
        }
      },
      "source": [
        "data.head(2)"
      ],
      "execution_count": 15,
      "outputs": [
        {
          "output_type": "execute_result",
          "data": {
            "text/html": [
              "<div>\n",
              "<style scoped>\n",
              "    .dataframe tbody tr th:only-of-type {\n",
              "        vertical-align: middle;\n",
              "    }\n",
              "\n",
              "    .dataframe tbody tr th {\n",
              "        vertical-align: top;\n",
              "    }\n",
              "\n",
              "    .dataframe thead th {\n",
              "        text-align: right;\n",
              "    }\n",
              "</style>\n",
              "<table border=\"1\" class=\"dataframe\">\n",
              "  <thead>\n",
              "    <tr style=\"text-align: right;\">\n",
              "      <th></th>\n",
              "      <th>stop_date</th>\n",
              "      <th>stop_time</th>\n",
              "      <th>driver_gender</th>\n",
              "      <th>driver_race</th>\n",
              "      <th>violation_raw</th>\n",
              "      <th>violation</th>\n",
              "      <th>search_conducted</th>\n",
              "      <th>search_type</th>\n",
              "      <th>stop_outcome</th>\n",
              "      <th>is_arrested</th>\n",
              "      <th>stop_duration</th>\n",
              "      <th>drugs_related_stop</th>\n",
              "      <th>district</th>\n",
              "    </tr>\n",
              "  </thead>\n",
              "  <tbody>\n",
              "    <tr>\n",
              "      <th>0</th>\n",
              "      <td>2005-01-04</td>\n",
              "      <td>12:55</td>\n",
              "      <td>M</td>\n",
              "      <td>White</td>\n",
              "      <td>Equipment/Inspection Violation</td>\n",
              "      <td>Equipment</td>\n",
              "      <td>False</td>\n",
              "      <td>NaN</td>\n",
              "      <td>Citation</td>\n",
              "      <td>False</td>\n",
              "      <td>0-15 Min</td>\n",
              "      <td>False</td>\n",
              "      <td>Zone X4</td>\n",
              "    </tr>\n",
              "    <tr>\n",
              "      <th>1</th>\n",
              "      <td>2005-01-23</td>\n",
              "      <td>23:15</td>\n",
              "      <td>M</td>\n",
              "      <td>White</td>\n",
              "      <td>Speeding</td>\n",
              "      <td>Speeding</td>\n",
              "      <td>False</td>\n",
              "      <td>NaN</td>\n",
              "      <td>Citation</td>\n",
              "      <td>False</td>\n",
              "      <td>0-15 Min</td>\n",
              "      <td>False</td>\n",
              "      <td>Zone K3</td>\n",
              "    </tr>\n",
              "  </tbody>\n",
              "</table>\n",
              "</div>"
            ],
            "text/plain": [
              "    stop_date stop_time  ... drugs_related_stop district\n",
              "0  2005-01-04     12:55  ...              False  Zone X4\n",
              "1  2005-01-23     23:15  ...              False  Zone K3\n",
              "\n",
              "[2 rows x 13 columns]"
            ]
          },
          "metadata": {
            "tags": []
          },
          "execution_count": 15
        }
      ]
    },
    {
      "cell_type": "code",
      "metadata": {
        "id": "UleLGm7WGTUJ",
        "colab_type": "code",
        "colab": {}
      },
      "source": [
        "# let's combine stop_date and stop_time column with space separator\n",
        "combined = data.stop_date.str.cat(data.stop_time, sep=' ')"
      ],
      "execution_count": 0,
      "outputs": []
    },
    {
      "cell_type": "code",
      "metadata": {
        "id": "25LgXqC4GlKc",
        "colab_type": "code",
        "colab": {}
      },
      "source": [
        "# let's add above combined data to original data by creating a new column stop_datetime\n",
        "data['stop_datetime'] = pd.to_datetime(combined)"
      ],
      "execution_count": 0,
      "outputs": []
    },
    {
      "cell_type": "code",
      "metadata": {
        "id": "fPWYwtVaG5Q3",
        "colab_type": "code",
        "outputId": "4e66ebd1-2e5e-41c7-ad34-53bd468cf62a",
        "colab": {
          "base_uri": "https://localhost:8080/",
          "height": 266
        }
      },
      "source": [
        "data.dtypes\n",
        "# stop_datetime         datetime64[ns]"
      ],
      "execution_count": 18,
      "outputs": [
        {
          "output_type": "execute_result",
          "data": {
            "text/plain": [
              "stop_date                     object\n",
              "stop_time                     object\n",
              "driver_gender                 object\n",
              "driver_race                   object\n",
              "violation_raw                 object\n",
              "violation                     object\n",
              "search_conducted                bool\n",
              "search_type                   object\n",
              "stop_outcome                  object\n",
              "is_arrested                     bool\n",
              "stop_duration                 object\n",
              "drugs_related_stop              bool\n",
              "district                      object\n",
              "stop_datetime         datetime64[ns]\n",
              "dtype: object"
            ]
          },
          "metadata": {
            "tags": []
          },
          "execution_count": 18
        }
      ]
    },
    {
      "cell_type": "markdown",
      "metadata": {
        "id": "jPw6lHSPHO-1",
        "colab_type": "text"
      },
      "source": [
        "**Setting the index**\n",
        "\n",
        "Lastly we will set the stop_datetime column as the DataFrame's index. By replacing the default index with a DatetimeIndex, will make it easier to analyze the dataset by date and time."
      ]
    },
    {
      "cell_type": "code",
      "metadata": {
        "id": "rJbu3aIJHZ_1",
        "colab_type": "code",
        "colab": {}
      },
      "source": [
        "data.set_index('stop_datetime', inplace=True)\n",
        "# when you set a column as index, it is no more part of dataframe column"
      ],
      "execution_count": 0,
      "outputs": []
    },
    {
      "cell_type": "code",
      "metadata": {
        "id": "aofreHNlH7WS",
        "colab_type": "code",
        "outputId": "44410a36-634a-4259-ca59-d251148b151d",
        "colab": {
          "base_uri": "https://localhost:8080/",
          "height": 216
        }
      },
      "source": [
        "data.index"
      ],
      "execution_count": 20,
      "outputs": [
        {
          "output_type": "execute_result",
          "data": {
            "text/plain": [
              "DatetimeIndex(['2005-01-04 12:55:00', '2005-01-23 23:15:00',\n",
              "               '2005-02-17 04:15:00', '2005-02-20 17:15:00',\n",
              "               '2005-02-24 01:20:00', '2005-03-14 10:00:00',\n",
              "               '2005-03-29 21:55:00', '2005-04-04 21:25:00',\n",
              "               '2005-07-14 11:20:00', '2005-07-14 19:55:00',\n",
              "               ...\n",
              "               '2015-12-31 13:23:00', '2015-12-31 18:59:00',\n",
              "               '2015-12-31 19:13:00', '2015-12-31 20:20:00',\n",
              "               '2015-12-31 20:50:00', '2015-12-31 21:21:00',\n",
              "               '2015-12-31 21:59:00', '2015-12-31 22:04:00',\n",
              "               '2015-12-31 22:09:00', '2015-12-31 22:47:00'],\n",
              "              dtype='datetime64[ns]', name='stop_datetime', length=91741, freq=None)"
            ]
          },
          "metadata": {
            "tags": []
          },
          "execution_count": 20
        }
      ]
    },
    {
      "cell_type": "code",
      "metadata": {
        "id": "uQZ-OpqOIGMf",
        "colab_type": "code",
        "outputId": "024e3428-feb3-42b9-a393-2259ddc637f5",
        "colab": {
          "base_uri": "https://localhost:8080/",
          "height": 100
        }
      },
      "source": [
        "data.columns\n",
        "# stop_datetime is no more part of dataset columns"
      ],
      "execution_count": 21,
      "outputs": [
        {
          "output_type": "execute_result",
          "data": {
            "text/plain": [
              "Index(['stop_date', 'stop_time', 'driver_gender', 'driver_race',\n",
              "       'violation_raw', 'violation', 'search_conducted', 'search_type',\n",
              "       'stop_outcome', 'is_arrested', 'stop_duration', 'drugs_related_stop',\n",
              "       'district'],\n",
              "      dtype='object')"
            ]
          },
          "metadata": {
            "tags": []
          },
          "execution_count": 21
        }
      ]
    },
    {
      "cell_type": "code",
      "metadata": {
        "id": "UrQkXPoEIPOy",
        "colab_type": "code",
        "outputId": "66f71686-627d-458f-f98d-ff8179019368",
        "colab": {
          "base_uri": "https://localhost:8080/",
          "height": 191
        }
      },
      "source": [
        "data.head(2)\n",
        "# check the new index"
      ],
      "execution_count": 22,
      "outputs": [
        {
          "output_type": "execute_result",
          "data": {
            "text/html": [
              "<div>\n",
              "<style scoped>\n",
              "    .dataframe tbody tr th:only-of-type {\n",
              "        vertical-align: middle;\n",
              "    }\n",
              "\n",
              "    .dataframe tbody tr th {\n",
              "        vertical-align: top;\n",
              "    }\n",
              "\n",
              "    .dataframe thead th {\n",
              "        text-align: right;\n",
              "    }\n",
              "</style>\n",
              "<table border=\"1\" class=\"dataframe\">\n",
              "  <thead>\n",
              "    <tr style=\"text-align: right;\">\n",
              "      <th></th>\n",
              "      <th>stop_date</th>\n",
              "      <th>stop_time</th>\n",
              "      <th>driver_gender</th>\n",
              "      <th>driver_race</th>\n",
              "      <th>violation_raw</th>\n",
              "      <th>violation</th>\n",
              "      <th>search_conducted</th>\n",
              "      <th>search_type</th>\n",
              "      <th>stop_outcome</th>\n",
              "      <th>is_arrested</th>\n",
              "      <th>stop_duration</th>\n",
              "      <th>drugs_related_stop</th>\n",
              "      <th>district</th>\n",
              "    </tr>\n",
              "    <tr>\n",
              "      <th>stop_datetime</th>\n",
              "      <th></th>\n",
              "      <th></th>\n",
              "      <th></th>\n",
              "      <th></th>\n",
              "      <th></th>\n",
              "      <th></th>\n",
              "      <th></th>\n",
              "      <th></th>\n",
              "      <th></th>\n",
              "      <th></th>\n",
              "      <th></th>\n",
              "      <th></th>\n",
              "      <th></th>\n",
              "    </tr>\n",
              "  </thead>\n",
              "  <tbody>\n",
              "    <tr>\n",
              "      <th>2005-01-04 12:55:00</th>\n",
              "      <td>2005-01-04</td>\n",
              "      <td>12:55</td>\n",
              "      <td>M</td>\n",
              "      <td>White</td>\n",
              "      <td>Equipment/Inspection Violation</td>\n",
              "      <td>Equipment</td>\n",
              "      <td>False</td>\n",
              "      <td>NaN</td>\n",
              "      <td>Citation</td>\n",
              "      <td>False</td>\n",
              "      <td>0-15 Min</td>\n",
              "      <td>False</td>\n",
              "      <td>Zone X4</td>\n",
              "    </tr>\n",
              "    <tr>\n",
              "      <th>2005-01-23 23:15:00</th>\n",
              "      <td>2005-01-23</td>\n",
              "      <td>23:15</td>\n",
              "      <td>M</td>\n",
              "      <td>White</td>\n",
              "      <td>Speeding</td>\n",
              "      <td>Speeding</td>\n",
              "      <td>False</td>\n",
              "      <td>NaN</td>\n",
              "      <td>Citation</td>\n",
              "      <td>False</td>\n",
              "      <td>0-15 Min</td>\n",
              "      <td>False</td>\n",
              "      <td>Zone K3</td>\n",
              "    </tr>\n",
              "  </tbody>\n",
              "</table>\n",
              "</div>"
            ],
            "text/plain": [
              "                      stop_date stop_time  ... drugs_related_stop district\n",
              "stop_datetime                              ...                            \n",
              "2005-01-04 12:55:00  2005-01-04     12:55  ...              False  Zone X4\n",
              "2005-01-23 23:15:00  2005-01-23     23:15  ...              False  Zone K3\n",
              "\n",
              "[2 rows x 13 columns]"
            ]
          },
          "metadata": {
            "tags": []
          },
          "execution_count": 22
        }
      ]
    },
    {
      "cell_type": "markdown",
      "metadata": {
        "id": "bhapCTbpQ4H3",
        "colab_type": "text"
      },
      "source": [
        "Let's check what are the values  stop_outcome"
      ]
    },
    {
      "cell_type": "code",
      "metadata": {
        "id": "jppN3rE0RIOZ",
        "colab_type": "code",
        "outputId": "80f1f8e8-dbde-4ad9-bc67-4c9800206393",
        "colab": {
          "base_uri": "https://localhost:8080/",
          "height": 133
        }
      },
      "source": [
        "data.stop_outcome.head()"
      ],
      "execution_count": 23,
      "outputs": [
        {
          "output_type": "execute_result",
          "data": {
            "text/plain": [
              "stop_datetime\n",
              "2005-01-04 12:55:00         Citation\n",
              "2005-01-23 23:15:00         Citation\n",
              "2005-02-17 04:15:00         Citation\n",
              "2005-02-20 17:15:00    Arrest Driver\n",
              "2005-02-24 01:20:00         Citation\n",
              "Name: stop_outcome, dtype: object"
            ]
          },
          "metadata": {
            "tags": []
          },
          "execution_count": 23
        }
      ]
    },
    {
      "cell_type": "markdown",
      "metadata": {
        "id": "kjO54EtJV5tj",
        "colab_type": "text"
      },
      "source": [
        "value_counts(): \n",
        "\n",
        "- Counts the unique values in a Series\n",
        "- Best suited for categorical data"
      ]
    },
    {
      "cell_type": "code",
      "metadata": {
        "id": "mlhN-KHaROfY",
        "colab_type": "code",
        "outputId": "4e3f7e2b-6082-4105-af5c-a37c7ece90d2",
        "colab": {
          "base_uri": "https://localhost:8080/",
          "height": 133
        }
      },
      "source": [
        "#let's see what are different values in stop_outcome\n",
        "data.stop_outcome.value_counts()\n",
        "# as we can see citation or issue is a ticket occured 77092 times"
      ],
      "execution_count": 24,
      "outputs": [
        {
          "output_type": "execute_result",
          "data": {
            "text/plain": [
              "Citation            77092\n",
              "Warning              5137\n",
              "Arrest Driver        2735\n",
              "No Action             625\n",
              "N/D                   607\n",
              "Arrest Passenger      343\n",
              "Name: stop_outcome, dtype: int64"
            ]
          },
          "metadata": {
            "tags": []
          },
          "execution_count": 24
        }
      ]
    },
    {
      "cell_type": "code",
      "metadata": {
        "id": "nYBfIbAfRepi",
        "colab_type": "code",
        "outputId": "d6d5d30a-a072-4812-8692-60a94fba162c",
        "colab": {
          "base_uri": "https://localhost:8080/",
          "height": 133
        }
      },
      "source": [
        "# let's see percentage of each values in stop_outcome\n",
        "data.stop_outcome.value_counts(normalize=True)\n",
        "# citation occured 89% of the time"
      ],
      "execution_count": 25,
      "outputs": [
        {
          "output_type": "execute_result",
          "data": {
            "text/plain": [
              "Citation            0.890835\n",
              "Warning             0.059361\n",
              "Arrest Driver       0.031604\n",
              "No Action           0.007222\n",
              "N/D                 0.007014\n",
              "Arrest Passenger    0.003964\n",
              "Name: stop_outcome, dtype: float64"
            ]
          },
          "metadata": {
            "tags": []
          },
          "execution_count": 25
        }
      ]
    },
    {
      "cell_type": "code",
      "metadata": {
        "id": "_3DxLNZMXqnZ",
        "colab_type": "code",
        "outputId": "6fedb1f8-1c45-492b-fbcd-e2628eb1aec4",
        "colab": {
          "base_uri": "https://localhost:8080/",
          "height": 133
        }
      },
      "source": [
        "# Let's see the proportion of unique values in violation \n",
        "data.violation.value_counts(normalize=True)"
      ],
      "execution_count": 26,
      "outputs": [
        {
          "output_type": "execute_result",
          "data": {
            "text/plain": [
              "Speeding               0.559563\n",
              "Moving violation       0.187476\n",
              "Equipment              0.126209\n",
              "Other                  0.050960\n",
              "Registration/plates    0.042790\n",
              "Seat belt              0.033002\n",
              "Name: violation, dtype: float64"
            ]
          },
          "metadata": {
            "tags": []
          },
          "execution_count": 26
        }
      ]
    },
    {
      "cell_type": "code",
      "metadata": {
        "id": "tiyQdlarX5zC",
        "colab_type": "code",
        "outputId": "0ade1ad8-9fc6-4e2e-8caa-46a6f56f19e4",
        "colab": {
          "base_uri": "https://localhost:8080/",
          "height": 350
        }
      },
      "source": [
        "# Let's see violations by gender\n",
        "print(\"Violation by Female driver \\n\\n\", data[data.driver_gender == 'F'].violation.value_counts(normalize=True))\n",
        "print('\\n')\n",
        "print(\"Violation by Male driver \\n\\n\", data[data.driver_gender == 'M'].violation.value_counts(normalize=True))"
      ],
      "execution_count": 27,
      "outputs": [
        {
          "output_type": "stream",
          "text": [
            "Violation by Female driver \n",
            "\n",
            " Speeding               0.658114\n",
            "Moving violation       0.138218\n",
            "Equipment              0.105199\n",
            "Registration/plates    0.044418\n",
            "Other                  0.029738\n",
            "Seat belt              0.024312\n",
            "Name: violation, dtype: float64\n",
            "\n",
            "\n",
            "Violation by Male driver \n",
            "\n",
            " Speeding               0.522243\n",
            "Moving violation       0.206144\n",
            "Equipment              0.134158\n",
            "Other                  0.058985\n",
            "Registration/plates    0.042175\n",
            "Seat belt              0.036296\n",
            "Name: violation, dtype: float64\n"
          ],
          "name": "stdout"
        }
      ]
    },
    {
      "cell_type": "markdown",
      "metadata": {
        "id": "4VTNALPhd3Zf",
        "colab_type": "text"
      },
      "source": [
        "**Filtering data with multiple condition**\n",
        "\n",
        "*Rules for filtering by multiple conditions*\n",
        "- Ampersand (&): only include rows that satisfy both conditions\n",
        "- Pipe (|): include rows that satisfy either condition\n",
        "- Each condition must be surrounded by parentheses\n",
        "- Conditions can check for equality (==), inequality (!=), etc.\n",
        "- Can use more than two conditions"
      ]
    },
    {
      "cell_type": "code",
      "metadata": {
        "id": "lRBhm-aid78b",
        "colab_type": "code",
        "colab": {}
      },
      "source": [
        "# create a dataframe for only female drivers who are arrested\n",
        "\n",
        "fm_arrested = data[(data.driver_gender == 'F') & (data.is_arrested == True)]\n",
        "\n",
        "# Each condition is surrounded by parentheses. Ampersand (&) represents the and operator"
      ],
      "execution_count": 0,
      "outputs": []
    },
    {
      "cell_type": "code",
      "metadata": {
        "id": "Cxmaf_AceZmT",
        "colab_type": "code",
        "colab": {
          "base_uri": "https://localhost:8080/",
          "height": 33
        },
        "outputId": "9df6522f-bb21-4cbe-f64f-01be49634b8f"
      },
      "source": [
        "fm_arrested.shape"
      ],
      "execution_count": 34,
      "outputs": [
        {
          "output_type": "execute_result",
          "data": {
            "text/plain": [
              "(669, 13)"
            ]
          },
          "metadata": {
            "tags": []
          },
          "execution_count": 34
        }
      ]
    },
    {
      "cell_type": "code",
      "metadata": {
        "id": "4KfDJv0TfNM4",
        "colab_type": "code",
        "colab": {
          "base_uri": "https://localhost:8080/",
          "height": 33
        },
        "outputId": "5a67c169-1611-4e5b-d96a-74ee309e7920"
      },
      "source": [
        "# create a dataframe for either female drivers or who are arrested\n",
        "\n",
        "fm_or_arrested = data[(data.driver_gender == 'F') | (data.is_arrested == True)]\n",
        "fm_or_arrested.shape\n",
        "\n",
        "# Pipe (|) represents the or operator\n"
      ],
      "execution_count": 37,
      "outputs": [
        {
          "output_type": "execute_result",
          "data": {
            "text/plain": [
              "(31385, 13)"
            ]
          },
          "metadata": {
            "tags": []
          },
          "execution_count": 37
        }
      ]
    },
    {
      "cell_type": "code",
      "metadata": {
        "id": "rvjHQrZAgHrP",
        "colab_type": "code",
        "colab": {
          "base_uri": "https://localhost:8080/",
          "height": 183
        },
        "outputId": "27b04873-3046-4427-a373-e0acd6863d13"
      },
      "source": [
        "print('gender value count: \\n', fm_or_arrested.driver_gender.value_counts())\n",
        "print('\\n')\n",
        "print('is arrested value count: \\n', fm_or_arrested.is_arrested.value_counts())"
      ],
      "execution_count": 42,
      "outputs": [
        {
          "output_type": "stream",
          "text": [
            "gender value count: \n",
            " F    23774\n",
            "M     2409\n",
            "Name: driver_gender, dtype: int64\n",
            "\n",
            "\n",
            "is arrested value count: \n",
            " False    23105\n",
            "True      8280\n",
            "Name: is_arrested, dtype: int64\n"
          ],
          "name": "stdout"
        }
      ]
    },
    {
      "cell_type": "markdown",
      "metadata": {
        "id": "pYUtDh66i88o",
        "colab_type": "text"
      },
      "source": [
        "**Does gender affect who gets a ticket for speeding?**\n"
      ]
    },
    {
      "cell_type": "code",
      "metadata": {
        "id": "itHH2JYtiUNg",
        "colab_type": "code",
        "colab": {
          "base_uri": "https://localhost:8080/",
          "height": 283
        },
        "outputId": "ff49302a-9c01-41c2-cd43-df5f838546ad"
      },
      "source": [
        "# Create a DataFrame of female drivers stopped for speeding\n",
        "female_and_speeding = data[(data.driver_gender == 'F') & (data.violation == 'Speeding')]\n",
        "\n",
        "# Create a DataFrame of male drivers stopped for speeding\n",
        "male_and_speeding = data[(data.driver_gender == 'M') & (data.violation == 'Speeding')]\n",
        "\n",
        "# Compute the stop outcomes for female drivers (as proportions)\n",
        "print('female speeding outcome: \\n', female_and_speeding.stop_outcome.value_counts(normalize=True))\n",
        "\n",
        "# Compute the stop outcomes for male drivers (as proportions)\n",
        "print('male speeding outcome: \\n',male_and_speeding.stop_outcome.value_counts(normalize=True))"
      ],
      "execution_count": 46,
      "outputs": [
        {
          "output_type": "stream",
          "text": [
            "female speeding outcome: \n",
            " Citation            0.952192\n",
            "Warning             0.040074\n",
            "Arrest Driver       0.005752\n",
            "N/D                 0.000959\n",
            "Arrest Passenger    0.000639\n",
            "No Action           0.000383\n",
            "Name: stop_outcome, dtype: float64\n",
            "male speeding outcome: \n",
            " Citation            0.944595\n",
            "Warning             0.036184\n",
            "Arrest Driver       0.015895\n",
            "Arrest Passenger    0.001281\n",
            "No Action           0.001068\n",
            "N/D                 0.000976\n",
            "Name: stop_outcome, dtype: float64\n"
          ],
          "name": "stdout"
        }
      ]
    },
    {
      "cell_type": "markdown",
      "metadata": {
        "id": "_1-LPa7mjiSn",
        "colab_type": "text"
      },
      "source": [
        "The numbers are similar for males and females: about 95% of stops for speeding result in a ticket. Thus, the data fails to show that gender has an impact on who gets a ticket for speeding"
      ]
    },
    {
      "cell_type": "markdown",
      "metadata": {
        "id": "TiygHIOAoZQd",
        "colab_type": "text"
      },
      "source": [
        "**Calculating the search rate**"
      ]
    },
    {
      "cell_type": "code",
      "metadata": {
        "id": "uuv_wqGslfr4",
        "colab_type": "code",
        "colab": {
          "base_uri": "https://localhost:8080/",
          "height": 100
        },
        "outputId": "3cdc59de-c26c-4eb6-fbc8-1666fd7586d5"
      },
      "source": [
        "# Check the data type of 'search_conducted'\n",
        "print(data.search_conducted.dtype)\n",
        "\n",
        "# Calculate the search rate by counting the values\n",
        "print(data.search_conducted.value_counts(normalize=True))\n",
        "\n",
        "# Calculate the search rate by taking the mean\n",
        "print(data.search_conducted.mean())\n",
        "\n",
        "# Mean of Boolean Series represents percentage of True values"
      ],
      "execution_count": 48,
      "outputs": [
        {
          "output_type": "stream",
          "text": [
            "bool\n",
            "False    0.963953\n",
            "True     0.036047\n",
            "Name: search_conducted, dtype: float64\n",
            "0.03604713268876511\n"
          ],
          "name": "stdout"
        }
      ]
    },
    {
      "cell_type": "markdown",
      "metadata": {
        "id": "rNy_RoMeonHc",
        "colab_type": "text"
      },
      "source": [
        "**Calculating the search rate by gender**"
      ]
    },
    {
      "cell_type": "code",
      "metadata": {
        "id": "jnw4DIBFopCF",
        "colab_type": "code",
        "colab": {
          "base_uri": "https://localhost:8080/",
          "height": 50
        },
        "outputId": "514c346f-93ba-45f0-d082-cd9eccb776eb"
      },
      "source": [
        "# Calculate the search rate for female drivers\n",
        "print('search rate for female drivers: ',data[data.driver_gender == 'F'].search_conducted.mean())\n",
        "\n",
        "# Calculate the search rate for male drivers\n",
        "print('search rate for male drivers: ',data[data.driver_gender == 'M'].search_conducted.mean())"
      ],
      "execution_count": 51,
      "outputs": [
        {
          "output_type": "stream",
          "text": [
            "search rate for female drivers:  0.019180617481282074\n",
            "search rate for male drivers:  0.04542557598546892\n"
          ],
          "name": "stdout"
        }
      ]
    },
    {
      "cell_type": "code",
      "metadata": {
        "id": "2LcMkgQhpLDh",
        "colab_type": "code",
        "colab": {
          "base_uri": "https://localhost:8080/",
          "height": 83
        },
        "outputId": "bf02e464-ca62-418a-894b-c7755e7264eb"
      },
      "source": [
        "# let's do the above by using groupby method\n",
        "\n",
        "data.groupby('driver_gender').search_conducted.mean()\n",
        "\n",
        "# Male drivers are searched more than twice as often as female drivers. "
      ],
      "execution_count": 52,
      "outputs": [
        {
          "output_type": "execute_result",
          "data": {
            "text/plain": [
              "driver_gender\n",
              "F    0.019181\n",
              "M    0.045426\n",
              "Name: search_conducted, dtype: float64"
            ]
          },
          "metadata": {
            "tags": []
          },
          "execution_count": 52
        }
      ]
    },
    {
      "cell_type": "markdown",
      "metadata": {
        "id": "9I_3iXyqrfFa",
        "colab_type": "text"
      },
      "source": [
        "Adding a second factor to the analysis:\n",
        "Even though the search rate for males is much higher than for females, it's possible that the difference is mostly due to a second factor. May be it is based on violation type. Let's check."
      ]
    },
    {
      "cell_type": "code",
      "metadata": {
        "id": "kpwS8btZrtVm",
        "colab_type": "code",
        "colab": {
          "base_uri": "https://localhost:8080/",
          "height": 250
        },
        "outputId": "86c778f1-58f5-4955-f36e-3de5d7416f3d"
      },
      "source": [
        "print(data.groupby(['driver_gender', 'violation']).search_conducted.mean())"
      ],
      "execution_count": 58,
      "outputs": [
        {
          "output_type": "stream",
          "text": [
            "driver_gender  violation          \n",
            "F              Equipment              0.039984\n",
            "               Moving violation       0.039257\n",
            "               Other                  0.041018\n",
            "               Registration/plates    0.054924\n",
            "               Seat belt              0.017301\n",
            "               Speeding               0.008309\n",
            "M              Equipment              0.071496\n",
            "               Moving violation       0.061524\n",
            "               Other                  0.046191\n",
            "               Registration/plates    0.108802\n",
            "               Seat belt              0.035119\n",
            "               Speeding               0.027885\n",
            "Name: search_conducted, dtype: float64\n"
          ],
          "name": "stdout"
        }
      ]
    },
    {
      "cell_type": "code",
      "metadata": {
        "id": "c0ZX9HvVr804",
        "colab_type": "code",
        "colab": {
          "base_uri": "https://localhost:8080/",
          "height": 250
        },
        "outputId": "20286d3e-7c17-41ed-dc3a-aeb4c209c6c8"
      },
      "source": [
        "# let's change the group order for better readbility\n",
        "\n",
        "print(data.groupby(['violation', 'driver_gender']).search_conducted.mean())\n",
        "\n",
        "# For all types of violations, the search rate is higher for males than for females, disproving our hypothesis."
      ],
      "execution_count": 59,
      "outputs": [
        {
          "output_type": "stream",
          "text": [
            "violation            driver_gender\n",
            "Equipment            F                0.039984\n",
            "                     M                0.071496\n",
            "Moving violation     F                0.039257\n",
            "                     M                0.061524\n",
            "Other                F                0.041018\n",
            "                     M                0.046191\n",
            "Registration/plates  F                0.054924\n",
            "                     M                0.108802\n",
            "Seat belt            F                0.017301\n",
            "                     M                0.035119\n",
            "Speeding             F                0.008309\n",
            "                     M                0.027885\n",
            "Name: search_conducted, dtype: float64\n"
          ],
          "name": "stdout"
        }
      ]
    },
    {
      "cell_type": "code",
      "metadata": {
        "id": "Ad4d6koXpnNA",
        "colab_type": "code",
        "colab": {
          "base_uri": "https://localhost:8080/",
          "height": 150
        },
        "outputId": "b4bbc677-e31f-4458-e7c7-cf7cad93badd"
      },
      "source": [
        "# one more example on groupby \"arrest rate by police district\"\n",
        "\n",
        "data.groupby('district').is_arrested.mean()"
      ],
      "execution_count": 55,
      "outputs": [
        {
          "output_type": "execute_result",
          "data": {
            "text/plain": [
              "district\n",
              "Zone K1    0.067181\n",
              "Zone K2    0.069522\n",
              "Zone K3    0.072286\n",
              "Zone X1    0.230044\n",
              "Zone X3    0.082466\n",
              "Zone X4    0.117674\n",
              "Name: is_arrested, dtype: float64"
            ]
          },
          "metadata": {
            "tags": []
          },
          "execution_count": 55
        }
      ]
    },
    {
      "cell_type": "code",
      "metadata": {
        "id": "zRFdIaCsqLmf",
        "colab_type": "code",
        "colab": {
          "base_uri": "https://localhost:8080/",
          "height": 250
        },
        "outputId": "822e43dc-ff70-4101-91ca-a21f1620bbbc"
      },
      "source": [
        "# lets add gender to above grouping\n",
        "\n",
        "data.groupby(['district', 'driver_gender']).is_arrested.mean()\n",
        "\n",
        "# when you want to groupby by multiple items then provide the items in list"
      ],
      "execution_count": 56,
      "outputs": [
        {
          "output_type": "execute_result",
          "data": {
            "text/plain": [
              "district  driver_gender\n",
              "Zone K1   F                0.019169\n",
              "          M                0.026588\n",
              "Zone K2   F                0.022196\n",
              "          M                0.034285\n",
              "Zone K3   F                0.025156\n",
              "          M                0.034961\n",
              "Zone X1   F                0.019646\n",
              "          M                0.024563\n",
              "Zone X3   F                0.027188\n",
              "          M                0.038166\n",
              "Zone X4   F                0.042149\n",
              "          M                0.049956\n",
              "Name: is_arrested, dtype: float64"
            ]
          },
          "metadata": {
            "tags": []
          },
          "execution_count": 56
        }
      ]
    },
    {
      "cell_type": "code",
      "metadata": {
        "id": "5CnKnQptqfki",
        "colab_type": "code",
        "colab": {
          "base_uri": "https://localhost:8080/",
          "height": 250
        },
        "outputId": "f39f3fe4-14be-41ba-bab3-8b1b39bc2c31"
      },
      "source": [
        "# lets change the item order\n",
        "\n",
        "data.groupby(['driver_gender','district']).is_arrested.mean()\n",
        "\n",
        "# the values remains same, but the grouping changes"
      ],
      "execution_count": 57,
      "outputs": [
        {
          "output_type": "execute_result",
          "data": {
            "text/plain": [
              "driver_gender  district\n",
              "F              Zone K1     0.019169\n",
              "               Zone K2     0.022196\n",
              "               Zone K3     0.025156\n",
              "               Zone X1     0.019646\n",
              "               Zone X3     0.027188\n",
              "               Zone X4     0.042149\n",
              "M              Zone K1     0.026588\n",
              "               Zone K2     0.034285\n",
              "               Zone K3     0.034961\n",
              "               Zone X1     0.024563\n",
              "               Zone X3     0.038166\n",
              "               Zone X4     0.049956\n",
              "Name: is_arrested, dtype: float64"
            ]
          },
          "metadata": {
            "tags": []
          },
          "execution_count": 57
        }
      ]
    }
  ]
}
