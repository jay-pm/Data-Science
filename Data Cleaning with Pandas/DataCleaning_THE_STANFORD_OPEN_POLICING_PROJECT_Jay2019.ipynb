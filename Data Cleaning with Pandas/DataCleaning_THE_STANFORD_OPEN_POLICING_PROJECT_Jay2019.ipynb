{
  "nbformat": 4,
  "nbformat_minor": 0,
  "metadata": {
    "colab": {
      "name": "Data_cleaning_THE STANFORD OPEN POLICING PROJECT_Jay2019.ipynb",
      "version": "0.3.2",
      "provenance": [],
      "collapsed_sections": []
    },
    "kernelspec": {
      "name": "python3",
      "display_name": "Python 3"
    },
    "accelerator": "GPU"
  },
  "cells": [
    {
      "cell_type": "markdown",
      "metadata": {
        "id": "d-OFQixkZHZk",
        "colab_type": "text"
      },
      "source": [
        "Download data from https://openpolicing.stanford.edu/data/\n",
        "\n",
        "**THE STANFORD OPEN POLICING PROJECT:**\n",
        "\n",
        "Below is from above mentioned website:\n",
        "\n",
        "On a typical day in the United States, police officers make more than 50,000 traffic stops. Our team is gathering, analyzing, and releasing records from millions of traffic stops by law enforcement agencies across the country. Our goal is to help researchers, journalists, and policymakers investigate and improve interactions between police and the public."
      ]
    },
    {
      "cell_type": "markdown",
      "metadata": {
        "id": "FuOmhxECqf_r",
        "colab_type": "text"
      },
      "source": [
        "We'll be analyzing a dataset of traffic stops in Rhode Island that was collected by the Stanford Open Policing Project."
      ]
    },
    {
      "cell_type": "code",
      "metadata": {
        "id": "FZRQ5pSdq60M",
        "colab_type": "code",
        "colab": {
          "base_uri": "https://localhost:8080/",
          "height": 120
        },
        "outputId": "38b14781-6cb7-4649-db9d-c0966514ce00"
      },
      "source": [
        "# copy data from google drive\n",
        "from google.colab import drive\n",
        "drive.mount('/content/drive')"
      ],
      "execution_count": 2,
      "outputs": [
        {
          "output_type": "stream",
          "text": [
            "Go to this URL in a browser: https://accounts.google.com/o/oauth2/auth?client_id=947318989803-6bn6qk8qdgf4n4g3pfee6491hc0brc4i.apps.googleusercontent.com&redirect_uri=urn%3Aietf%3Awg%3Aoauth%3A2.0%3Aoob&scope=email%20https%3A%2F%2Fwww.googleapis.com%2Fauth%2Fdocs.test%20https%3A%2F%2Fwww.googleapis.com%2Fauth%2Fdrive%20https%3A%2F%2Fwww.googleapis.com%2Fauth%2Fdrive.photos.readonly%20https%3A%2F%2Fwww.googleapis.com%2Fauth%2Fpeopleapi.readonly&response_type=code\n",
            "\n",
            "Enter your authorization code:\n",
            "··········\n",
            "Mounted at /content/drive\n"
          ],
          "name": "stdout"
        }
      ]
    },
    {
      "cell_type": "code",
      "metadata": {
        "id": "dDCHM_c7rZ2p",
        "colab_type": "code",
        "colab": {
          "base_uri": "https://localhost:8080/",
          "height": 50
        },
        "outputId": "f776877e-41ae-48b3-e4e6-d943cda0a0f9"
      },
      "source": [
        "!ls \"/content/drive/My Drive/Data\""
      ],
      "execution_count": 3,
      "outputs": [
        {
          "output_type": "stream",
          "text": [
            " creditcard.csv\t\t\t\t\t\t\t   police.csv\n",
            "'Data_cleaning_THE STANFORD OPEN POLICING PROJECT_Jay2019.ipynb'   weather.csv\n"
          ],
          "name": "stdout"
        }
      ]
    },
    {
      "cell_type": "code",
      "metadata": {
        "id": "K-H_5YnOrkJL",
        "colab_type": "code",
        "colab": {}
      },
      "source": [
        "!cp \"/content/drive/My Drive/Data/police.csv\" \"police.csv\"\n",
        "!cp \"/content/drive/My Drive/Data/weather.csv\" \"weather.csv\""
      ],
      "execution_count": 0,
      "outputs": []
    },
    {
      "cell_type": "code",
      "metadata": {
        "id": "Z8RR46Qgr3hU",
        "colab_type": "code",
        "colab": {
          "base_uri": "https://localhost:8080/",
          "height": 33
        },
        "outputId": "6ade118c-5a0f-4a24-b519-94e8454465e4"
      },
      "source": [
        "!ls"
      ],
      "execution_count": 5,
      "outputs": [
        {
          "output_type": "stream",
          "text": [
            "drive  police.csv  sample_data\tweather.csv\n"
          ],
          "name": "stdout"
        }
      ]
    },
    {
      "cell_type": "code",
      "metadata": {
        "id": "-ARVEtubr7pS",
        "colab_type": "code",
        "colab": {}
      },
      "source": [
        "# imports\n",
        "import pandas as pd # for file handling and data manipulation\n",
        "import numpy as np # for numerical algebra"
      ],
      "execution_count": 0,
      "outputs": []
    },
    {
      "cell_type": "code",
      "metadata": {
        "id": "dXM5uQFwYT7o",
        "colab_type": "code",
        "colab": {}
      },
      "source": [
        "# load the data\n",
        "data = pd.read_csv('police.csv')\n",
        "data_weather = pd.read_csv('weather.csv')\n"
      ],
      "execution_count": 0,
      "outputs": []
    },
    {
      "cell_type": "markdown",
      "metadata": {
        "id": "Ko4nxPsnsRu1",
        "colab_type": "text"
      },
      "source": [
        "**Examine the data**"
      ]
    },
    {
      "cell_type": "code",
      "metadata": {
        "id": "hJ79iXm3sViT",
        "colab_type": "code",
        "colab": {
          "base_uri": "https://localhost:8080/",
          "height": 301
        },
        "outputId": "21a3c117-bf92-4ff4-b90a-bfe55ba78fce"
      },
      "source": [
        "# check first five rows of data\n",
        "data.head()"
      ],
      "execution_count": 32,
      "outputs": [
        {
          "output_type": "execute_result",
          "data": {
            "text/html": [
              "<div>\n",
              "<style scoped>\n",
              "    .dataframe tbody tr th:only-of-type {\n",
              "        vertical-align: middle;\n",
              "    }\n",
              "\n",
              "    .dataframe tbody tr th {\n",
              "        vertical-align: top;\n",
              "    }\n",
              "\n",
              "    .dataframe thead th {\n",
              "        text-align: right;\n",
              "    }\n",
              "</style>\n",
              "<table border=\"1\" class=\"dataframe\">\n",
              "  <thead>\n",
              "    <tr style=\"text-align: right;\">\n",
              "      <th></th>\n",
              "      <th>state</th>\n",
              "      <th>stop_date</th>\n",
              "      <th>stop_time</th>\n",
              "      <th>county_name</th>\n",
              "      <th>driver_gender</th>\n",
              "      <th>driver_race</th>\n",
              "      <th>violation_raw</th>\n",
              "      <th>violation</th>\n",
              "      <th>search_conducted</th>\n",
              "      <th>search_type</th>\n",
              "      <th>stop_outcome</th>\n",
              "      <th>is_arrested</th>\n",
              "      <th>stop_duration</th>\n",
              "      <th>drugs_related_stop</th>\n",
              "      <th>district</th>\n",
              "    </tr>\n",
              "  </thead>\n",
              "  <tbody>\n",
              "    <tr>\n",
              "      <th>0</th>\n",
              "      <td>RI</td>\n",
              "      <td>2005-01-04</td>\n",
              "      <td>12:55</td>\n",
              "      <td>NaN</td>\n",
              "      <td>M</td>\n",
              "      <td>White</td>\n",
              "      <td>Equipment/Inspection Violation</td>\n",
              "      <td>Equipment</td>\n",
              "      <td>False</td>\n",
              "      <td>NaN</td>\n",
              "      <td>Citation</td>\n",
              "      <td>False</td>\n",
              "      <td>0-15 Min</td>\n",
              "      <td>False</td>\n",
              "      <td>Zone X4</td>\n",
              "    </tr>\n",
              "    <tr>\n",
              "      <th>1</th>\n",
              "      <td>RI</td>\n",
              "      <td>2005-01-23</td>\n",
              "      <td>23:15</td>\n",
              "      <td>NaN</td>\n",
              "      <td>M</td>\n",
              "      <td>White</td>\n",
              "      <td>Speeding</td>\n",
              "      <td>Speeding</td>\n",
              "      <td>False</td>\n",
              "      <td>NaN</td>\n",
              "      <td>Citation</td>\n",
              "      <td>False</td>\n",
              "      <td>0-15 Min</td>\n",
              "      <td>False</td>\n",
              "      <td>Zone K3</td>\n",
              "    </tr>\n",
              "    <tr>\n",
              "      <th>2</th>\n",
              "      <td>RI</td>\n",
              "      <td>2005-02-17</td>\n",
              "      <td>04:15</td>\n",
              "      <td>NaN</td>\n",
              "      <td>M</td>\n",
              "      <td>White</td>\n",
              "      <td>Speeding</td>\n",
              "      <td>Speeding</td>\n",
              "      <td>False</td>\n",
              "      <td>NaN</td>\n",
              "      <td>Citation</td>\n",
              "      <td>False</td>\n",
              "      <td>0-15 Min</td>\n",
              "      <td>False</td>\n",
              "      <td>Zone X4</td>\n",
              "    </tr>\n",
              "    <tr>\n",
              "      <th>3</th>\n",
              "      <td>RI</td>\n",
              "      <td>2005-02-20</td>\n",
              "      <td>17:15</td>\n",
              "      <td>NaN</td>\n",
              "      <td>M</td>\n",
              "      <td>White</td>\n",
              "      <td>Call for Service</td>\n",
              "      <td>Other</td>\n",
              "      <td>False</td>\n",
              "      <td>NaN</td>\n",
              "      <td>Arrest Driver</td>\n",
              "      <td>True</td>\n",
              "      <td>16-30 Min</td>\n",
              "      <td>False</td>\n",
              "      <td>Zone X1</td>\n",
              "    </tr>\n",
              "    <tr>\n",
              "      <th>4</th>\n",
              "      <td>RI</td>\n",
              "      <td>2005-02-24</td>\n",
              "      <td>01:20</td>\n",
              "      <td>NaN</td>\n",
              "      <td>F</td>\n",
              "      <td>White</td>\n",
              "      <td>Speeding</td>\n",
              "      <td>Speeding</td>\n",
              "      <td>False</td>\n",
              "      <td>NaN</td>\n",
              "      <td>Citation</td>\n",
              "      <td>False</td>\n",
              "      <td>0-15 Min</td>\n",
              "      <td>False</td>\n",
              "      <td>Zone X3</td>\n",
              "    </tr>\n",
              "  </tbody>\n",
              "</table>\n",
              "</div>"
            ],
            "text/plain": [
              "  state   stop_date stop_time  ...  stop_duration drugs_related_stop district\n",
              "0    RI  2005-01-04     12:55  ...       0-15 Min              False  Zone X4\n",
              "1    RI  2005-01-23     23:15  ...       0-15 Min              False  Zone K3\n",
              "2    RI  2005-02-17     04:15  ...       0-15 Min              False  Zone X4\n",
              "3    RI  2005-02-20     17:15  ...      16-30 Min              False  Zone X1\n",
              "4    RI  2005-02-24     01:20  ...       0-15 Min              False  Zone X3\n",
              "\n",
              "[5 rows x 15 columns]"
            ]
          },
          "metadata": {
            "tags": []
          },
          "execution_count": 32
        }
      ]
    },
    {
      "cell_type": "markdown",
      "metadata": {
        "id": "Yz8RqFC-yJ88",
        "colab_type": "text"
      },
      "source": [
        "- Each row represents one traffic stop\n",
        "- NaN indicates a missing value"
      ]
    },
    {
      "cell_type": "code",
      "metadata": {
        "id": "dU4Xf-5DscHY",
        "colab_type": "code",
        "colab": {
          "base_uri": "https://localhost:8080/",
          "height": 350
        },
        "outputId": "8e274736-2dd6-4b0f-bb9f-87ff4fcb7b88"
      },
      "source": [
        "# check data statistics using info() method\n",
        "data.info()"
      ],
      "execution_count": 33,
      "outputs": [
        {
          "output_type": "stream",
          "text": [
            "<class 'pandas.core.frame.DataFrame'>\n",
            "RangeIndex: 91741 entries, 0 to 91740\n",
            "Data columns (total 15 columns):\n",
            "state                 91741 non-null object\n",
            "stop_date             91741 non-null object\n",
            "stop_time             91741 non-null object\n",
            "county_name           0 non-null float64\n",
            "driver_gender         86536 non-null object\n",
            "driver_race           86539 non-null object\n",
            "violation_raw         86539 non-null object\n",
            "violation             86539 non-null object\n",
            "search_conducted      91741 non-null bool\n",
            "search_type           3307 non-null object\n",
            "stop_outcome          86539 non-null object\n",
            "is_arrested           91741 non-null bool\n",
            "stop_duration         86539 non-null object\n",
            "drugs_related_stop    91741 non-null bool\n",
            "district              91741 non-null object\n",
            "dtypes: bool(3), float64(1), object(11)\n",
            "memory usage: 8.7+ MB\n"
          ],
          "name": "stdout"
        }
      ]
    },
    {
      "cell_type": "code",
      "metadata": {
        "id": "NS6DTihqsi7-",
        "colab_type": "code",
        "colab": {
          "base_uri": "https://localhost:8080/",
          "height": 283
        },
        "outputId": "09621730-b708-4a51-a45d-5e500b3a7baf"
      },
      "source": [
        "# check for missing values\n",
        "data.isnull().sum()"
      ],
      "execution_count": 34,
      "outputs": [
        {
          "output_type": "execute_result",
          "data": {
            "text/plain": [
              "state                     0\n",
              "stop_date                 0\n",
              "stop_time                 0\n",
              "county_name           91741\n",
              "driver_gender          5205\n",
              "driver_race            5202\n",
              "violation_raw          5202\n",
              "violation              5202\n",
              "search_conducted          0\n",
              "search_type           88434\n",
              "stop_outcome           5202\n",
              "is_arrested               0\n",
              "stop_duration          5202\n",
              "drugs_related_stop        0\n",
              "district                  0\n",
              "dtype: int64"
            ]
          },
          "metadata": {
            "tags": []
          },
          "execution_count": 34
        }
      ]
    },
    {
      "cell_type": "code",
      "metadata": {
        "id": "6crBKuufvcR8",
        "colab_type": "code",
        "colab": {
          "base_uri": "https://localhost:8080/",
          "height": 33
        },
        "outputId": "e389838f-f7ee-45df-e6a1-546ef72aafbc"
      },
      "source": [
        "# check shape of the dataset\n",
        "data.shape"
      ],
      "execution_count": 35,
      "outputs": [
        {
          "output_type": "execute_result",
          "data": {
            "text/plain": [
              "(91741, 15)"
            ]
          },
          "metadata": {
            "tags": []
          },
          "execution_count": 35
        }
      ]
    },
    {
      "cell_type": "markdown",
      "metadata": {
        "id": "MMGRiPG6wDHA",
        "colab_type": "text"
      },
      "source": [
        "Often, a DataFrame will contain columns that are not useful to your analysis. Such columns should be dropped from the DataFrame, to make it easier for us to focus on the remaining columns.\n",
        "\n",
        "For police dataset we'll drop the county_name column because it only contains missing values, and we'll drop the state column because all of the traffic stops took place in one state (Rhode Island). Thus, these columns can be dropped because they contain no useful information."
      ]
    },
    {
      "cell_type": "code",
      "metadata": {
        "id": "Dx-NbtgXwB_u",
        "colab_type": "code",
        "colab": {}
      },
      "source": [
        "# drop country_name and state column\n",
        "data.drop(['county_name', 'state'], axis='columns', inplace=True) # use inplace = True to avoid one additional assignment statement"
      ],
      "execution_count": 0,
      "outputs": []
    },
    {
      "cell_type": "code",
      "metadata": {
        "id": "Kadk2ypJxo4q",
        "colab_type": "code",
        "colab": {
          "base_uri": "https://localhost:8080/",
          "height": 33
        },
        "outputId": "f3da63f0-7480-4fb7-b775-2d7485d7e838"
      },
      "source": [
        "# check shape of the dataset again\n",
        "data.shape"
      ],
      "execution_count": 37,
      "outputs": [
        {
          "output_type": "execute_result",
          "data": {
            "text/plain": [
              "(91741, 13)"
            ]
          },
          "metadata": {
            "tags": []
          },
          "execution_count": 37
        }
      ]
    },
    {
      "cell_type": "code",
      "metadata": {
        "id": "FfEyhAhqydK8",
        "colab_type": "code",
        "colab": {
          "base_uri": "https://localhost:8080/",
          "height": 250
        },
        "outputId": "f7c09059-fefb-4ed8-8b32-69fd53776d1c"
      },
      "source": [
        "# check data types\n",
        "data.dtypes"
      ],
      "execution_count": 38,
      "outputs": [
        {
          "output_type": "execute_result",
          "data": {
            "text/plain": [
              "stop_date             object\n",
              "stop_time             object\n",
              "driver_gender         object\n",
              "driver_race           object\n",
              "violation_raw         object\n",
              "violation             object\n",
              "search_conducted        bool\n",
              "search_type           object\n",
              "stop_outcome          object\n",
              "is_arrested             bool\n",
              "stop_duration         object\n",
              "drugs_related_stop      bool\n",
              "district              object\n",
              "dtype: object"
            ]
          },
          "metadata": {
            "tags": []
          },
          "execution_count": 38
        }
      ]
    },
    {
      "cell_type": "markdown",
      "metadata": {
        "id": "jTe5SUPOyqQk",
        "colab_type": "text"
      },
      "source": [
        "- object: Python strings (or other Python objects)\n",
        "- bool: True and False values\n",
        "- Other types: int, float, datetime, category"
      ]
    },
    {
      "cell_type": "markdown",
      "metadata": {
        "id": "NO5EWFHCBie6",
        "colab_type": "text"
      },
      "source": [
        "**Why do data types matter?**\n",
        "- Affects which operations you can perform\n",
        "- Avoid storing data as strings (when possible)\n",
        "      int, float: enables mathematical operations\n",
        "      datetime: enables date-based attributes and methods\n",
        "      category: uses less memory and runs faster\n",
        "      bool: enables logical and mathematical operations"
      ]
    },
    {
      "cell_type": "markdown",
      "metadata": {
        "id": "Qg7-C5S1CA3e",
        "colab_type": "text"
      },
      "source": [
        "In abovecell is_arrested column currently has the object data type. We'll change the data type to bool, which is the most suitable type for a column containing True and False values.\n",
        "\n",
        "Fixing the data type will enable us to use mathematical operations on the is_arrested column that would not be possible otherwise."
      ]
    },
    {
      "cell_type": "code",
      "metadata": {
        "id": "xGlGPdbPBiMa",
        "colab_type": "code",
        "colab": {}
      },
      "source": [
        "data['is_arrested'] = data['is_arrested'].astype('bool')"
      ],
      "execution_count": 0,
      "outputs": []
    },
    {
      "cell_type": "markdown",
      "metadata": {
        "id": "0DT3xCr1DXlG",
        "colab_type": "text"
      },
      "source": [
        " dot notation i.e. data.is_arrested and brack notation i.e. data['is_arrested'] are same but bracket notation must be used on left side of a assignment statement as shown above."
      ]
    },
    {
      "cell_type": "markdown",
      "metadata": {
        "id": "nrbwNUzfEzMU",
        "colab_type": "text"
      },
      "source": [
        "Currently, the date and time of each traffic stop are stored in separate object columns: stop_date and stop_time.\n",
        "\n",
        "We'll combine these two columns into a single column, and then convert it to datetime format. This will enable us to use convenient date-based attributes."
      ]
    },
    {
      "cell_type": "code",
      "metadata": {
        "id": "69VgSQTGytcn",
        "colab_type": "code",
        "colab": {
          "base_uri": "https://localhost:8080/",
          "height": 161
        },
        "outputId": "9c5eb965-fb69-40b9-d518-a9baa75eced2"
      },
      "source": [
        "data.head(2)"
      ],
      "execution_count": 40,
      "outputs": [
        {
          "output_type": "execute_result",
          "data": {
            "text/html": [
              "<div>\n",
              "<style scoped>\n",
              "    .dataframe tbody tr th:only-of-type {\n",
              "        vertical-align: middle;\n",
              "    }\n",
              "\n",
              "    .dataframe tbody tr th {\n",
              "        vertical-align: top;\n",
              "    }\n",
              "\n",
              "    .dataframe thead th {\n",
              "        text-align: right;\n",
              "    }\n",
              "</style>\n",
              "<table border=\"1\" class=\"dataframe\">\n",
              "  <thead>\n",
              "    <tr style=\"text-align: right;\">\n",
              "      <th></th>\n",
              "      <th>stop_date</th>\n",
              "      <th>stop_time</th>\n",
              "      <th>driver_gender</th>\n",
              "      <th>driver_race</th>\n",
              "      <th>violation_raw</th>\n",
              "      <th>violation</th>\n",
              "      <th>search_conducted</th>\n",
              "      <th>search_type</th>\n",
              "      <th>stop_outcome</th>\n",
              "      <th>is_arrested</th>\n",
              "      <th>stop_duration</th>\n",
              "      <th>drugs_related_stop</th>\n",
              "      <th>district</th>\n",
              "    </tr>\n",
              "  </thead>\n",
              "  <tbody>\n",
              "    <tr>\n",
              "      <th>0</th>\n",
              "      <td>2005-01-04</td>\n",
              "      <td>12:55</td>\n",
              "      <td>M</td>\n",
              "      <td>White</td>\n",
              "      <td>Equipment/Inspection Violation</td>\n",
              "      <td>Equipment</td>\n",
              "      <td>False</td>\n",
              "      <td>NaN</td>\n",
              "      <td>Citation</td>\n",
              "      <td>False</td>\n",
              "      <td>0-15 Min</td>\n",
              "      <td>False</td>\n",
              "      <td>Zone X4</td>\n",
              "    </tr>\n",
              "    <tr>\n",
              "      <th>1</th>\n",
              "      <td>2005-01-23</td>\n",
              "      <td>23:15</td>\n",
              "      <td>M</td>\n",
              "      <td>White</td>\n",
              "      <td>Speeding</td>\n",
              "      <td>Speeding</td>\n",
              "      <td>False</td>\n",
              "      <td>NaN</td>\n",
              "      <td>Citation</td>\n",
              "      <td>False</td>\n",
              "      <td>0-15 Min</td>\n",
              "      <td>False</td>\n",
              "      <td>Zone K3</td>\n",
              "    </tr>\n",
              "  </tbody>\n",
              "</table>\n",
              "</div>"
            ],
            "text/plain": [
              "    stop_date stop_time  ... drugs_related_stop district\n",
              "0  2005-01-04     12:55  ...              False  Zone X4\n",
              "1  2005-01-23     23:15  ...              False  Zone K3\n",
              "\n",
              "[2 rows x 13 columns]"
            ]
          },
          "metadata": {
            "tags": []
          },
          "execution_count": 40
        }
      ]
    },
    {
      "cell_type": "code",
      "metadata": {
        "id": "UleLGm7WGTUJ",
        "colab_type": "code",
        "colab": {}
      },
      "source": [
        "# let's combine stop_date and stop_time column with space separator\n",
        "combined = data.stop_date.str.cat(data.stop_time, sep=' ')"
      ],
      "execution_count": 0,
      "outputs": []
    },
    {
      "cell_type": "code",
      "metadata": {
        "id": "25LgXqC4GlKc",
        "colab_type": "code",
        "colab": {}
      },
      "source": [
        "# let's add above combined data to original data by creating a new column stop_datetime\n",
        "data['stop_datetime'] = pd.to_datetime(combined)"
      ],
      "execution_count": 0,
      "outputs": []
    },
    {
      "cell_type": "code",
      "metadata": {
        "id": "fPWYwtVaG5Q3",
        "colab_type": "code",
        "colab": {
          "base_uri": "https://localhost:8080/",
          "height": 266
        },
        "outputId": "e473d69b-4a81-4f05-8928-4270336f816d"
      },
      "source": [
        "data.dtypes\n",
        "# stop_datetime         datetime64[ns]"
      ],
      "execution_count": 45,
      "outputs": [
        {
          "output_type": "execute_result",
          "data": {
            "text/plain": [
              "stop_date                     object\n",
              "stop_time                     object\n",
              "driver_gender                 object\n",
              "driver_race                   object\n",
              "violation_raw                 object\n",
              "violation                     object\n",
              "search_conducted                bool\n",
              "search_type                   object\n",
              "stop_outcome                  object\n",
              "is_arrested                     bool\n",
              "stop_duration                 object\n",
              "drugs_related_stop              bool\n",
              "district                      object\n",
              "stop_datetime         datetime64[ns]\n",
              "dtype: object"
            ]
          },
          "metadata": {
            "tags": []
          },
          "execution_count": 45
        }
      ]
    },
    {
      "cell_type": "markdown",
      "metadata": {
        "id": "jPw6lHSPHO-1",
        "colab_type": "text"
      },
      "source": [
        "**Setting the index**\n",
        "\n",
        "Lastly we will set the stop_datetime column as the DataFrame's index. By replacing the default index with a DatetimeIndex, will make it easier to analyze the dataset by date and time."
      ]
    },
    {
      "cell_type": "code",
      "metadata": {
        "id": "rJbu3aIJHZ_1",
        "colab_type": "code",
        "colab": {}
      },
      "source": [
        "data.set_index('stop_datetime', inplace=True)\n",
        "# when you set a column as index, it is no more part of dataframe column"
      ],
      "execution_count": 0,
      "outputs": []
    },
    {
      "cell_type": "code",
      "metadata": {
        "id": "aofreHNlH7WS",
        "colab_type": "code",
        "colab": {
          "base_uri": "https://localhost:8080/",
          "height": 216
        },
        "outputId": "2259bfbb-532f-4f7f-c7d8-75f92df2ae6f"
      },
      "source": [
        "data.index"
      ],
      "execution_count": 47,
      "outputs": [
        {
          "output_type": "execute_result",
          "data": {
            "text/plain": [
              "DatetimeIndex(['2005-01-04 12:55:00', '2005-01-23 23:15:00',\n",
              "               '2005-02-17 04:15:00', '2005-02-20 17:15:00',\n",
              "               '2005-02-24 01:20:00', '2005-03-14 10:00:00',\n",
              "               '2005-03-29 21:55:00', '2005-04-04 21:25:00',\n",
              "               '2005-07-14 11:20:00', '2005-07-14 19:55:00',\n",
              "               ...\n",
              "               '2015-12-31 13:23:00', '2015-12-31 18:59:00',\n",
              "               '2015-12-31 19:13:00', '2015-12-31 20:20:00',\n",
              "               '2015-12-31 20:50:00', '2015-12-31 21:21:00',\n",
              "               '2015-12-31 21:59:00', '2015-12-31 22:04:00',\n",
              "               '2015-12-31 22:09:00', '2015-12-31 22:47:00'],\n",
              "              dtype='datetime64[ns]', name='stop_datetime', length=91741, freq=None)"
            ]
          },
          "metadata": {
            "tags": []
          },
          "execution_count": 47
        }
      ]
    },
    {
      "cell_type": "code",
      "metadata": {
        "id": "uQZ-OpqOIGMf",
        "colab_type": "code",
        "colab": {
          "base_uri": "https://localhost:8080/",
          "height": 100
        },
        "outputId": "7d9abeb7-39c6-4353-b96b-13ee7ea253f3"
      },
      "source": [
        "data.columns\n",
        "# stop_datetime is no more part of dataset columns"
      ],
      "execution_count": 48,
      "outputs": [
        {
          "output_type": "execute_result",
          "data": {
            "text/plain": [
              "Index(['stop_date', 'stop_time', 'driver_gender', 'driver_race',\n",
              "       'violation_raw', 'violation', 'search_conducted', 'search_type',\n",
              "       'stop_outcome', 'is_arrested', 'stop_duration', 'drugs_related_stop',\n",
              "       'district'],\n",
              "      dtype='object')"
            ]
          },
          "metadata": {
            "tags": []
          },
          "execution_count": 48
        }
      ]
    },
    {
      "cell_type": "code",
      "metadata": {
        "id": "UrQkXPoEIPOy",
        "colab_type": "code",
        "colab": {
          "base_uri": "https://localhost:8080/",
          "height": 191
        },
        "outputId": "6e47abed-596e-4b1e-976c-f6eb977312fb"
      },
      "source": [
        "data.head(2)\n",
        "# check the new index"
      ],
      "execution_count": 49,
      "outputs": [
        {
          "output_type": "execute_result",
          "data": {
            "text/html": [
              "<div>\n",
              "<style scoped>\n",
              "    .dataframe tbody tr th:only-of-type {\n",
              "        vertical-align: middle;\n",
              "    }\n",
              "\n",
              "    .dataframe tbody tr th {\n",
              "        vertical-align: top;\n",
              "    }\n",
              "\n",
              "    .dataframe thead th {\n",
              "        text-align: right;\n",
              "    }\n",
              "</style>\n",
              "<table border=\"1\" class=\"dataframe\">\n",
              "  <thead>\n",
              "    <tr style=\"text-align: right;\">\n",
              "      <th></th>\n",
              "      <th>stop_date</th>\n",
              "      <th>stop_time</th>\n",
              "      <th>driver_gender</th>\n",
              "      <th>driver_race</th>\n",
              "      <th>violation_raw</th>\n",
              "      <th>violation</th>\n",
              "      <th>search_conducted</th>\n",
              "      <th>search_type</th>\n",
              "      <th>stop_outcome</th>\n",
              "      <th>is_arrested</th>\n",
              "      <th>stop_duration</th>\n",
              "      <th>drugs_related_stop</th>\n",
              "      <th>district</th>\n",
              "    </tr>\n",
              "    <tr>\n",
              "      <th>stop_datetime</th>\n",
              "      <th></th>\n",
              "      <th></th>\n",
              "      <th></th>\n",
              "      <th></th>\n",
              "      <th></th>\n",
              "      <th></th>\n",
              "      <th></th>\n",
              "      <th></th>\n",
              "      <th></th>\n",
              "      <th></th>\n",
              "      <th></th>\n",
              "      <th></th>\n",
              "      <th></th>\n",
              "    </tr>\n",
              "  </thead>\n",
              "  <tbody>\n",
              "    <tr>\n",
              "      <th>2005-01-04 12:55:00</th>\n",
              "      <td>2005-01-04</td>\n",
              "      <td>12:55</td>\n",
              "      <td>M</td>\n",
              "      <td>White</td>\n",
              "      <td>Equipment/Inspection Violation</td>\n",
              "      <td>Equipment</td>\n",
              "      <td>False</td>\n",
              "      <td>NaN</td>\n",
              "      <td>Citation</td>\n",
              "      <td>False</td>\n",
              "      <td>0-15 Min</td>\n",
              "      <td>False</td>\n",
              "      <td>Zone X4</td>\n",
              "    </tr>\n",
              "    <tr>\n",
              "      <th>2005-01-23 23:15:00</th>\n",
              "      <td>2005-01-23</td>\n",
              "      <td>23:15</td>\n",
              "      <td>M</td>\n",
              "      <td>White</td>\n",
              "      <td>Speeding</td>\n",
              "      <td>Speeding</td>\n",
              "      <td>False</td>\n",
              "      <td>NaN</td>\n",
              "      <td>Citation</td>\n",
              "      <td>False</td>\n",
              "      <td>0-15 Min</td>\n",
              "      <td>False</td>\n",
              "      <td>Zone K3</td>\n",
              "    </tr>\n",
              "  </tbody>\n",
              "</table>\n",
              "</div>"
            ],
            "text/plain": [
              "                      stop_date stop_time  ... drugs_related_stop district\n",
              "stop_datetime                              ...                            \n",
              "2005-01-04 12:55:00  2005-01-04     12:55  ...              False  Zone X4\n",
              "2005-01-23 23:15:00  2005-01-23     23:15  ...              False  Zone K3\n",
              "\n",
              "[2 rows x 13 columns]"
            ]
          },
          "metadata": {
            "tags": []
          },
          "execution_count": 49
        }
      ]
    },
    {
      "cell_type": "markdown",
      "metadata": {
        "id": "bhapCTbpQ4H3",
        "colab_type": "text"
      },
      "source": [
        "Let's check what are the values  stop_outcome"
      ]
    },
    {
      "cell_type": "code",
      "metadata": {
        "id": "jppN3rE0RIOZ",
        "colab_type": "code",
        "colab": {
          "base_uri": "https://localhost:8080/",
          "height": 133
        },
        "outputId": "1b3a1934-8705-4fea-a30d-ab36bcd61a7d"
      },
      "source": [
        "data.stop_outcome.head()"
      ],
      "execution_count": 50,
      "outputs": [
        {
          "output_type": "execute_result",
          "data": {
            "text/plain": [
              "stop_datetime\n",
              "2005-01-04 12:55:00         Citation\n",
              "2005-01-23 23:15:00         Citation\n",
              "2005-02-17 04:15:00         Citation\n",
              "2005-02-20 17:15:00    Arrest Driver\n",
              "2005-02-24 01:20:00         Citation\n",
              "Name: stop_outcome, dtype: object"
            ]
          },
          "metadata": {
            "tags": []
          },
          "execution_count": 50
        }
      ]
    },
    {
      "cell_type": "code",
      "metadata": {
        "id": "mlhN-KHaROfY",
        "colab_type": "code",
        "colab": {
          "base_uri": "https://localhost:8080/",
          "height": 133
        },
        "outputId": "588cad83-5792-4e31-8cba-f7c070d2b8b2"
      },
      "source": [
        "#let's see what are different values in stop_outcome\n",
        "data.stop_outcome.value_counts()\n",
        "# as we can see citation or issue is a ticket occured 77092 times"
      ],
      "execution_count": 51,
      "outputs": [
        {
          "output_type": "execute_result",
          "data": {
            "text/plain": [
              "Citation            77092\n",
              "Warning              5137\n",
              "Arrest Driver        2735\n",
              "No Action             625\n",
              "N/D                   607\n",
              "Arrest Passenger      343\n",
              "Name: stop_outcome, dtype: int64"
            ]
          },
          "metadata": {
            "tags": []
          },
          "execution_count": 51
        }
      ]
    },
    {
      "cell_type": "code",
      "metadata": {
        "id": "nYBfIbAfRepi",
        "colab_type": "code",
        "colab": {
          "base_uri": "https://localhost:8080/",
          "height": 133
        },
        "outputId": "440c4eae-9181-4ce2-b474-8d4f96f9949f"
      },
      "source": [
        "# let's see percentage of each values in stop_outcome\n",
        "data.stop_outcome.value_counts(normalize=True)\n",
        "# citation occured 89% of the time"
      ],
      "execution_count": 52,
      "outputs": [
        {
          "output_type": "execute_result",
          "data": {
            "text/plain": [
              "Citation            0.890835\n",
              "Warning             0.059361\n",
              "Arrest Driver       0.031604\n",
              "No Action           0.007222\n",
              "N/D                 0.007014\n",
              "Arrest Passenger    0.003964\n",
              "Name: stop_outcome, dtype: float64"
            ]
          },
          "metadata": {
            "tags": []
          },
          "execution_count": 52
        }
      ]
    }
  ]
}